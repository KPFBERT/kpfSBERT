{
 "cells": [
  {
   "cell_type": "code",
   "execution_count": 1,
   "id": "f6fac783",
   "metadata": {},
   "outputs": [],
   "source": [
    "from torch.utils.data import DataLoader\n",
    "from sentence_transformers import SentenceTransformer,  SentencesDataset, LoggingHandler, losses, util, InputExample, models\n",
    "from sentence_transformers.evaluation import EmbeddingSimilarityEvaluator\n",
    "import logging\n",
    "import math\n",
    "import numpy as np"
   ]
  },
  {
   "cell_type": "code",
   "execution_count": 2,
   "id": "bef021a5",
   "metadata": {},
   "outputs": [],
   "source": [
    "logging.basicConfig(format='%(asctime)s - %(message)s',\n",
    "                    datefmt='%Y-%m-%d %H:%M:%S',\n",
    "                    level=logging.INFO,\n",
    "                    handlers=[LoggingHandler()])"
   ]
  },
  {
   "cell_type": "code",
   "execution_count": 3,
   "id": "181668d9",
   "metadata": {},
   "outputs": [],
   "source": [
    "model_name = \"kpfbert-base\"\n",
    "train_batch_size = 16"
   ]
  },
  {
   "cell_type": "code",
   "execution_count": 4,
   "id": "6f25903e",
   "metadata": {},
   "outputs": [
    {
     "name": "stderr",
     "output_type": "stream",
     "text": [
      "Some weights of the model checkpoint at kpfbert-base were not used when initializing BertModel: ['cls.predictions.transform.LayerNorm.bias', 'cls.predictions.transform.dense.bias', 'cls.predictions.bias', 'cls.predictions.decoder.weight', 'cls.predictions.transform.dense.weight', 'cls.predictions.transform.LayerNorm.weight', 'cls.predictions.decoder.bias']\n",
      "- This IS expected if you are initializing BertModel from the checkpoint of a model trained on another task or with another architecture (e.g. initializing a BertForSequenceClassification model from a BertForPreTraining model).\n",
      "- This IS NOT expected if you are initializing BertModel from the checkpoint of a model that you expect to be exactly identical (initializing a BertForSequenceClassification model from a BertForSequenceClassification model).\n",
      "Some weights of BertModel were not initialized from the model checkpoint at kpfbert-base and are newly initialized: ['bert.pooler.dense.bias', 'bert.pooler.dense.weight']\n",
      "You should probably TRAIN this model on a down-stream task to be able to use it for predictions and inference.\n"
     ]
    }
   ],
   "source": [
    "word_embedding_model = models.Transformer(model_name)"
   ]
  },
  {
   "cell_type": "code",
   "execution_count": 5,
   "id": "c25a20c8",
   "metadata": {},
   "outputs": [],
   "source": [
    "# Apply mean pooling to get one fixed sized sentence vector\n",
    "pooling_model = models.Pooling(word_embedding_model.get_word_embedding_dimension(),\n",
    "                               pooling_mode_mean_tokens=True,\n",
    "                               pooling_mode_cls_token=False,\n",
    "                               pooling_mode_max_tokens=False)"
   ]
  },
  {
   "cell_type": "code",
   "execution_count": 6,
   "id": "138f854a",
   "metadata": {},
   "outputs": [
    {
     "name": "stdout",
     "output_type": "stream",
     "text": [
      "2021-12-13 15:03:49 - Use pytorch device: cuda\n"
     ]
    }
   ],
   "source": [
    "model = SentenceTransformer(modules=[word_embedding_model, pooling_model])"
   ]
  },
  {
   "cell_type": "code",
   "execution_count": 7,
   "id": "5d45a25c",
   "metadata": {},
   "outputs": [
    {
     "name": "stdout",
     "output_type": "stream",
     "text": [
      "2021-12-13 15:03:49 - Read AllNLI train dataset\n"
     ]
    }
   ],
   "source": [
    "logging.info(\"Read AllNLI train dataset\")"
   ]
  },
  {
   "cell_type": "code",
   "execution_count": 8,
   "id": "e6e6a54c",
   "metadata": {},
   "outputs": [],
   "source": [
    "label2int = {\"contradiction\": 0, \"entailment\": 1, \"neutral\": 2}\n",
    "train_samples = []"
   ]
  },
  {
   "cell_type": "code",
   "execution_count": 9,
   "id": "13ffd73f",
   "metadata": {},
   "outputs": [],
   "source": [
    "with open('KorNLUDatasets/KorNLI/snli_1.0_train.ko.tsv', \"rt\", encoding=\"utf-8\") as fIn:\n",
    "    lines = fIn.readlines()\n",
    "    for line in lines:\n",
    "        s1, s2, label = line.split('\\t')\n",
    "        label = label2int[label.strip()]\n",
    "        train_samples.append(InputExample(texts=[s1, s2], label=label))"
   ]
  },
  {
   "cell_type": "code",
   "execution_count": 10,
   "id": "4434179b",
   "metadata": {},
   "outputs": [
    {
     "name": "stdout",
     "output_type": "stream",
     "text": [
      "2021-12-13 15:03:51 - Softmax loss: #Vectors concatenated: 3\n"
     ]
    }
   ],
   "source": [
    "train_dataset = SentencesDataset(train_samples, model=model)\n",
    "train_dataloader = DataLoader(train_dataset, shuffle=True, batch_size=train_batch_size)\n",
    "train_loss = losses.SoftmaxLoss(model=model, sentence_embedding_dimension=model.get_sentence_embedding_dimension(), num_labels=len(label2int))"
   ]
  },
  {
   "cell_type": "code",
   "execution_count": 11,
   "id": "aec9f303",
   "metadata": {},
   "outputs": [
    {
     "name": "stdout",
     "output_type": "stream",
     "text": [
      "2021-12-13 15:03:51 - Read STSbenchmark dev dataset\n"
     ]
    }
   ],
   "source": [
    "#Read STSbenchmark dataset and use it as development set\n",
    "logging.info(\"Read STSbenchmark dev dataset\")\n",
    "dev_samples = []"
   ]
  },
  {
   "cell_type": "code",
   "execution_count": 12,
   "id": "d60058c8",
   "metadata": {},
   "outputs": [],
   "source": [
    "with open('KorNLUDatasets/KorSTS/tune_dev.tsv', 'rt', encoding='utf-8') as fIn:\n",
    "    lines = fIn.readlines()\n",
    "    for line in lines:\n",
    "        s1, s2, score = line.split('\\t')\n",
    "        score = score.strip()\n",
    "        score = float(score) / 5.0\n",
    "        dev_samples.append(InputExample(texts= [s1,s2], label=score))"
   ]
  },
  {
   "cell_type": "code",
   "execution_count": 13,
   "id": "f36646da",
   "metadata": {},
   "outputs": [],
   "source": [
    "dev_evaluator = EmbeddingSimilarityEvaluator.from_input_examples(dev_samples, batch_size=train_batch_size, name='sts-dev')"
   ]
  },
  {
   "cell_type": "code",
   "execution_count": 14,
   "id": "40a87493",
   "metadata": {},
   "outputs": [
    {
     "name": "stdout",
     "output_type": "stream",
     "text": [
      "2021-12-13 15:03:51 - Warmup-steps: 3439\n"
     ]
    }
   ],
   "source": [
    "num_epochs = 1\n",
    "\n",
    "warmup_steps = math.ceil(len(train_dataset) * num_epochs / train_batch_size * 0.1) #10% of train data for warm-up\n",
    "logging.info(\"Warmup-steps: {}\".format(warmup_steps))"
   ]
  },
  {
   "cell_type": "code",
   "execution_count": 15,
   "id": "889b13d5",
   "metadata": {
    "scrolled": true
   },
   "outputs": [
    {
     "data": {
      "application/vnd.jupyter.widget-view+json": {
       "model_id": "e0a114bed38e4163b62ced213b6d1223",
       "version_major": 2,
       "version_minor": 0
      },
      "text/plain": [
       "Epoch:   0%|          | 0/1 [00:00<?, ?it/s]"
      ]
     },
     "metadata": {},
     "output_type": "display_data"
    },
    {
     "data": {
      "application/vnd.jupyter.widget-view+json": {
       "model_id": "52598590046e4b65adf20fb2bd557f8d",
       "version_major": 2,
       "version_minor": 0
      },
      "text/plain": [
       "Iteration:   0%|          | 0/34385 [00:00<?, ?it/s]"
      ]
     },
     "metadata": {},
     "output_type": "display_data"
    },
    {
     "name": "stdout",
     "output_type": "stream",
     "text": [
      "2021-12-13 15:05:48 - EmbeddingSimilarityEvaluator: Evaluating the model on sts-dev dataset in epoch 0 after 1000 steps:\n",
      "2021-12-13 15:05:51 - Cosine-Similarity :\tPearson: 0.7155\tSpearman: 0.7139\n",
      "2021-12-13 15:05:51 - Manhattan-Distance:\tPearson: 0.7028\tSpearman: 0.7072\n",
      "2021-12-13 15:05:51 - Euclidean-Distance:\tPearson: 0.7018\tSpearman: 0.7064\n",
      "2021-12-13 15:05:51 - Dot-Product-Similarity:\tPearson: 0.6725\tSpearman: 0.6729\n",
      "2021-12-13 15:07:47 - EmbeddingSimilarityEvaluator: Evaluating the model on sts-dev dataset in epoch 0 after 2000 steps:\n",
      "2021-12-13 15:07:50 - Cosine-Similarity :\tPearson: 0.6100\tSpearman: 0.6310\n",
      "2021-12-13 15:07:50 - Manhattan-Distance:\tPearson: 0.6174\tSpearman: 0.6306\n",
      "2021-12-13 15:07:50 - Euclidean-Distance:\tPearson: 0.6147\tSpearman: 0.6286\n",
      "2021-12-13 15:07:50 - Dot-Product-Similarity:\tPearson: 0.5835\tSpearman: 0.5933\n",
      "2021-12-13 15:09:47 - EmbeddingSimilarityEvaluator: Evaluating the model on sts-dev dataset in epoch 0 after 3000 steps:\n",
      "2021-12-13 15:09:49 - Cosine-Similarity :\tPearson: 0.6996\tSpearman: 0.7255\n",
      "2021-12-13 15:09:49 - Manhattan-Distance:\tPearson: 0.7244\tSpearman: 0.7277\n",
      "2021-12-13 15:09:49 - Euclidean-Distance:\tPearson: 0.7228\tSpearman: 0.7270\n",
      "2021-12-13 15:09:49 - Dot-Product-Similarity:\tPearson: 0.6826\tSpearman: 0.6876\n",
      "2021-12-13 15:11:45 - EmbeddingSimilarityEvaluator: Evaluating the model on sts-dev dataset in epoch 0 after 4000 steps:\n",
      "2021-12-13 15:11:48 - Cosine-Similarity :\tPearson: 0.7299\tSpearman: 0.7512\n",
      "2021-12-13 15:11:48 - Manhattan-Distance:\tPearson: 0.7520\tSpearman: 0.7534\n",
      "2021-12-13 15:11:48 - Euclidean-Distance:\tPearson: 0.7510\tSpearman: 0.7528\n",
      "2021-12-13 15:11:48 - Dot-Product-Similarity:\tPearson: 0.6948\tSpearman: 0.6920\n",
      "2021-12-13 15:13:45 - EmbeddingSimilarityEvaluator: Evaluating the model on sts-dev dataset in epoch 0 after 5000 steps:\n",
      "2021-12-13 15:13:48 - Cosine-Similarity :\tPearson: 0.7140\tSpearman: 0.7483\n",
      "2021-12-13 15:13:48 - Manhattan-Distance:\tPearson: 0.7517\tSpearman: 0.7533\n",
      "2021-12-13 15:13:48 - Euclidean-Distance:\tPearson: 0.7499\tSpearman: 0.7518\n",
      "2021-12-13 15:13:48 - Dot-Product-Similarity:\tPearson: 0.6885\tSpearman: 0.6981\n",
      "2021-12-13 15:15:45 - EmbeddingSimilarityEvaluator: Evaluating the model on sts-dev dataset in epoch 0 after 6000 steps:\n",
      "2021-12-13 15:15:48 - Cosine-Similarity :\tPearson: 0.7266\tSpearman: 0.7449\n",
      "2021-12-13 15:15:48 - Manhattan-Distance:\tPearson: 0.7520\tSpearman: 0.7499\n",
      "2021-12-13 15:15:48 - Euclidean-Distance:\tPearson: 0.7502\tSpearman: 0.7482\n",
      "2021-12-13 15:15:48 - Dot-Product-Similarity:\tPearson: 0.7059\tSpearman: 0.7058\n",
      "2021-12-13 15:17:44 - EmbeddingSimilarityEvaluator: Evaluating the model on sts-dev dataset in epoch 0 after 7000 steps:\n",
      "2021-12-13 15:17:46 - Cosine-Similarity :\tPearson: 0.7162\tSpearman: 0.7401\n",
      "2021-12-13 15:17:46 - Manhattan-Distance:\tPearson: 0.7466\tSpearman: 0.7442\n",
      "2021-12-13 15:17:46 - Euclidean-Distance:\tPearson: 0.7459\tSpearman: 0.7434\n",
      "2021-12-13 15:17:46 - Dot-Product-Similarity:\tPearson: 0.6987\tSpearman: 0.7065\n",
      "2021-12-13 15:19:42 - EmbeddingSimilarityEvaluator: Evaluating the model on sts-dev dataset in epoch 0 after 8000 steps:\n",
      "2021-12-13 15:19:45 - Cosine-Similarity :\tPearson: 0.7169\tSpearman: 0.7406\n",
      "2021-12-13 15:19:45 - Manhattan-Distance:\tPearson: 0.7412\tSpearman: 0.7407\n",
      "2021-12-13 15:19:45 - Euclidean-Distance:\tPearson: 0.7408\tSpearman: 0.7399\n",
      "2021-12-13 15:19:45 - Dot-Product-Similarity:\tPearson: 0.7051\tSpearman: 0.7117\n",
      "2021-12-13 15:21:41 - EmbeddingSimilarityEvaluator: Evaluating the model on sts-dev dataset in epoch 0 after 9000 steps:\n",
      "2021-12-13 15:21:44 - Cosine-Similarity :\tPearson: 0.7368\tSpearman: 0.7575\n",
      "2021-12-13 15:21:44 - Manhattan-Distance:\tPearson: 0.7554\tSpearman: 0.7553\n",
      "2021-12-13 15:21:44 - Euclidean-Distance:\tPearson: 0.7548\tSpearman: 0.7544\n",
      "2021-12-13 15:21:44 - Dot-Product-Similarity:\tPearson: 0.7237\tSpearman: 0.7253\n",
      "2021-12-13 15:23:40 - EmbeddingSimilarityEvaluator: Evaluating the model on sts-dev dataset in epoch 0 after 10000 steps:\n",
      "2021-12-13 15:23:43 - Cosine-Similarity :\tPearson: 0.7387\tSpearman: 0.7611\n",
      "2021-12-13 15:23:43 - Manhattan-Distance:\tPearson: 0.7593\tSpearman: 0.7589\n",
      "2021-12-13 15:23:43 - Euclidean-Distance:\tPearson: 0.7587\tSpearman: 0.7585\n",
      "2021-12-13 15:23:43 - Dot-Product-Similarity:\tPearson: 0.7272\tSpearman: 0.7329\n",
      "2021-12-13 15:25:39 - EmbeddingSimilarityEvaluator: Evaluating the model on sts-dev dataset in epoch 0 after 11000 steps:\n",
      "2021-12-13 15:25:42 - Cosine-Similarity :\tPearson: 0.7409\tSpearman: 0.7605\n",
      "2021-12-13 15:25:42 - Manhattan-Distance:\tPearson: 0.7624\tSpearman: 0.7611\n",
      "2021-12-13 15:25:42 - Euclidean-Distance:\tPearson: 0.7628\tSpearman: 0.7611\n",
      "2021-12-13 15:25:42 - Dot-Product-Similarity:\tPearson: 0.7270\tSpearman: 0.7308\n",
      "2021-12-13 15:27:38 - EmbeddingSimilarityEvaluator: Evaluating the model on sts-dev dataset in epoch 0 after 12000 steps:\n",
      "2021-12-13 15:27:41 - Cosine-Similarity :\tPearson: 0.7370\tSpearman: 0.7580\n",
      "2021-12-13 15:27:41 - Manhattan-Distance:\tPearson: 0.7581\tSpearman: 0.7570\n",
      "2021-12-13 15:27:41 - Euclidean-Distance:\tPearson: 0.7579\tSpearman: 0.7568\n",
      "2021-12-13 15:27:41 - Dot-Product-Similarity:\tPearson: 0.7222\tSpearman: 0.7259\n",
      "2021-12-13 15:29:37 - EmbeddingSimilarityEvaluator: Evaluating the model on sts-dev dataset in epoch 0 after 13000 steps:\n",
      "2021-12-13 15:29:40 - Cosine-Similarity :\tPearson: 0.7205\tSpearman: 0.7491\n",
      "2021-12-13 15:29:40 - Manhattan-Distance:\tPearson: 0.7493\tSpearman: 0.7489\n",
      "2021-12-13 15:29:40 - Euclidean-Distance:\tPearson: 0.7485\tSpearman: 0.7482\n",
      "2021-12-13 15:29:40 - Dot-Product-Similarity:\tPearson: 0.7150\tSpearman: 0.7275\n",
      "2021-12-13 15:31:37 - EmbeddingSimilarityEvaluator: Evaluating the model on sts-dev dataset in epoch 0 after 14000 steps:\n",
      "2021-12-13 15:31:39 - Cosine-Similarity :\tPearson: 0.7431\tSpearman: 0.7603\n",
      "2021-12-13 15:31:39 - Manhattan-Distance:\tPearson: 0.7631\tSpearman: 0.7608\n",
      "2021-12-13 15:31:39 - Euclidean-Distance:\tPearson: 0.7630\tSpearman: 0.7603\n",
      "2021-12-13 15:31:39 - Dot-Product-Similarity:\tPearson: 0.7317\tSpearman: 0.7348\n",
      "2021-12-13 15:33:36 - EmbeddingSimilarityEvaluator: Evaluating the model on sts-dev dataset in epoch 0 after 15000 steps:\n",
      "2021-12-13 15:33:39 - Cosine-Similarity :\tPearson: 0.7305\tSpearman: 0.7438\n",
      "2021-12-13 15:33:39 - Manhattan-Distance:\tPearson: 0.7462\tSpearman: 0.7430\n",
      "2021-12-13 15:33:39 - Euclidean-Distance:\tPearson: 0.7466\tSpearman: 0.7429\n",
      "2021-12-13 15:33:39 - Dot-Product-Similarity:\tPearson: 0.7182\tSpearman: 0.7186\n",
      "2021-12-13 15:35:35 - EmbeddingSimilarityEvaluator: Evaluating the model on sts-dev dataset in epoch 0 after 16000 steps:\n",
      "2021-12-13 15:35:38 - Cosine-Similarity :\tPearson: 0.7465\tSpearman: 0.7587\n",
      "2021-12-13 15:35:38 - Manhattan-Distance:\tPearson: 0.7607\tSpearman: 0.7586\n",
      "2021-12-13 15:35:38 - Euclidean-Distance:\tPearson: 0.7601\tSpearman: 0.7578\n",
      "2021-12-13 15:35:38 - Dot-Product-Similarity:\tPearson: 0.7374\tSpearman: 0.7395\n",
      "2021-12-13 15:37:35 - EmbeddingSimilarityEvaluator: Evaluating the model on sts-dev dataset in epoch 0 after 17000 steps:\n",
      "2021-12-13 15:37:38 - Cosine-Similarity :\tPearson: 0.7369\tSpearman: 0.7563\n",
      "2021-12-13 15:37:38 - Manhattan-Distance:\tPearson: 0.7565\tSpearman: 0.7546\n",
      "2021-12-13 15:37:38 - Euclidean-Distance:\tPearson: 0.7562\tSpearman: 0.7545\n",
      "2021-12-13 15:37:38 - Dot-Product-Similarity:\tPearson: 0.7313\tSpearman: 0.7368\n",
      "2021-12-13 15:39:34 - EmbeddingSimilarityEvaluator: Evaluating the model on sts-dev dataset in epoch 0 after 18000 steps:\n",
      "2021-12-13 15:39:37 - Cosine-Similarity :\tPearson: 0.7382\tSpearman: 0.7534\n",
      "2021-12-13 15:39:37 - Manhattan-Distance:\tPearson: 0.7524\tSpearman: 0.7515\n",
      "2021-12-13 15:39:37 - Euclidean-Distance:\tPearson: 0.7518\tSpearman: 0.7506\n",
      "2021-12-13 15:39:37 - Dot-Product-Similarity:\tPearson: 0.7310\tSpearman: 0.7342\n",
      "2021-12-13 15:41:35 - EmbeddingSimilarityEvaluator: Evaluating the model on sts-dev dataset in epoch 0 after 19000 steps:\n",
      "2021-12-13 15:41:37 - Cosine-Similarity :\tPearson: 0.7444\tSpearman: 0.7589\n",
      "2021-12-13 15:41:37 - Manhattan-Distance:\tPearson: 0.7630\tSpearman: 0.7606\n",
      "2021-12-13 15:41:37 - Euclidean-Distance:\tPearson: 0.7631\tSpearman: 0.7604\n",
      "2021-12-13 15:41:37 - Dot-Product-Similarity:\tPearson: 0.7320\tSpearman: 0.7358\n",
      "2021-12-13 15:43:34 - EmbeddingSimilarityEvaluator: Evaluating the model on sts-dev dataset in epoch 0 after 20000 steps:\n"
     ]
    },
    {
     "name": "stdout",
     "output_type": "stream",
     "text": [
      "2021-12-13 15:43:36 - Cosine-Similarity :\tPearson: 0.7393\tSpearman: 0.7544\n",
      "2021-12-13 15:43:36 - Manhattan-Distance:\tPearson: 0.7576\tSpearman: 0.7549\n",
      "2021-12-13 15:43:36 - Euclidean-Distance:\tPearson: 0.7580\tSpearman: 0.7548\n",
      "2021-12-13 15:43:36 - Dot-Product-Similarity:\tPearson: 0.7305\tSpearman: 0.7362\n",
      "2021-12-13 15:45:34 - EmbeddingSimilarityEvaluator: Evaluating the model on sts-dev dataset in epoch 0 after 21000 steps:\n",
      "2021-12-13 15:45:37 - Cosine-Similarity :\tPearson: 0.7563\tSpearman: 0.7702\n",
      "2021-12-13 15:45:37 - Manhattan-Distance:\tPearson: 0.7711\tSpearman: 0.7693\n",
      "2021-12-13 15:45:37 - Euclidean-Distance:\tPearson: 0.7711\tSpearman: 0.7689\n",
      "2021-12-13 15:45:37 - Dot-Product-Similarity:\tPearson: 0.7475\tSpearman: 0.7492\n",
      "2021-12-13 15:47:34 - EmbeddingSimilarityEvaluator: Evaluating the model on sts-dev dataset in epoch 0 after 22000 steps:\n",
      "2021-12-13 15:47:37 - Cosine-Similarity :\tPearson: 0.7489\tSpearman: 0.7643\n",
      "2021-12-13 15:47:37 - Manhattan-Distance:\tPearson: 0.7671\tSpearman: 0.7653\n",
      "2021-12-13 15:47:37 - Euclidean-Distance:\tPearson: 0.7668\tSpearman: 0.7647\n",
      "2021-12-13 15:47:37 - Dot-Product-Similarity:\tPearson: 0.7412\tSpearman: 0.7464\n",
      "2021-12-13 15:49:35 - EmbeddingSimilarityEvaluator: Evaluating the model on sts-dev dataset in epoch 0 after 23000 steps:\n",
      "2021-12-13 15:49:38 - Cosine-Similarity :\tPearson: 0.7510\tSpearman: 0.7666\n",
      "2021-12-13 15:49:38 - Manhattan-Distance:\tPearson: 0.7685\tSpearman: 0.7658\n",
      "2021-12-13 15:49:38 - Euclidean-Distance:\tPearson: 0.7676\tSpearman: 0.7647\n",
      "2021-12-13 15:49:38 - Dot-Product-Similarity:\tPearson: 0.7434\tSpearman: 0.7475\n",
      "2021-12-13 15:51:34 - EmbeddingSimilarityEvaluator: Evaluating the model on sts-dev dataset in epoch 0 after 24000 steps:\n",
      "2021-12-13 15:51:37 - Cosine-Similarity :\tPearson: 0.7486\tSpearman: 0.7623\n",
      "2021-12-13 15:51:37 - Manhattan-Distance:\tPearson: 0.7657\tSpearman: 0.7623\n",
      "2021-12-13 15:51:37 - Euclidean-Distance:\tPearson: 0.7654\tSpearman: 0.7617\n",
      "2021-12-13 15:51:37 - Dot-Product-Similarity:\tPearson: 0.7365\tSpearman: 0.7382\n",
      "2021-12-13 15:53:35 - EmbeddingSimilarityEvaluator: Evaluating the model on sts-dev dataset in epoch 0 after 25000 steps:\n",
      "2021-12-13 15:53:37 - Cosine-Similarity :\tPearson: 0.7476\tSpearman: 0.7629\n",
      "2021-12-13 15:53:37 - Manhattan-Distance:\tPearson: 0.7679\tSpearman: 0.7649\n",
      "2021-12-13 15:53:37 - Euclidean-Distance:\tPearson: 0.7671\tSpearman: 0.7637\n",
      "2021-12-13 15:53:37 - Dot-Product-Similarity:\tPearson: 0.7388\tSpearman: 0.7439\n",
      "2021-12-13 15:55:42 - EmbeddingSimilarityEvaluator: Evaluating the model on sts-dev dataset in epoch 0 after 26000 steps:\n",
      "2021-12-13 15:55:45 - Cosine-Similarity :\tPearson: 0.7525\tSpearman: 0.7655\n",
      "2021-12-13 15:55:45 - Manhattan-Distance:\tPearson: 0.7693\tSpearman: 0.7666\n",
      "2021-12-13 15:55:45 - Euclidean-Distance:\tPearson: 0.7690\tSpearman: 0.7658\n",
      "2021-12-13 15:55:45 - Dot-Product-Similarity:\tPearson: 0.7421\tSpearman: 0.7454\n",
      "2021-12-13 15:57:47 - EmbeddingSimilarityEvaluator: Evaluating the model on sts-dev dataset in epoch 0 after 27000 steps:\n",
      "2021-12-13 15:57:50 - Cosine-Similarity :\tPearson: 0.7580\tSpearman: 0.7705\n",
      "2021-12-13 15:57:50 - Manhattan-Distance:\tPearson: 0.7749\tSpearman: 0.7720\n",
      "2021-12-13 15:57:50 - Euclidean-Distance:\tPearson: 0.7743\tSpearman: 0.7712\n",
      "2021-12-13 15:57:50 - Dot-Product-Similarity:\tPearson: 0.7480\tSpearman: 0.7513\n",
      "2021-12-13 15:59:47 - EmbeddingSimilarityEvaluator: Evaluating the model on sts-dev dataset in epoch 0 after 28000 steps:\n",
      "2021-12-13 15:59:50 - Cosine-Similarity :\tPearson: 0.7476\tSpearman: 0.7625\n",
      "2021-12-13 15:59:50 - Manhattan-Distance:\tPearson: 0.7657\tSpearman: 0.7629\n",
      "2021-12-13 15:59:50 - Euclidean-Distance:\tPearson: 0.7656\tSpearman: 0.7626\n",
      "2021-12-13 15:59:50 - Dot-Product-Similarity:\tPearson: 0.7406\tSpearman: 0.7463\n",
      "2021-12-13 16:01:46 - EmbeddingSimilarityEvaluator: Evaluating the model on sts-dev dataset in epoch 0 after 29000 steps:\n",
      "2021-12-13 16:01:49 - Cosine-Similarity :\tPearson: 0.7535\tSpearman: 0.7684\n",
      "2021-12-13 16:01:49 - Manhattan-Distance:\tPearson: 0.7719\tSpearman: 0.7691\n",
      "2021-12-13 16:01:49 - Euclidean-Distance:\tPearson: 0.7713\tSpearman: 0.7685\n",
      "2021-12-13 16:01:49 - Dot-Product-Similarity:\tPearson: 0.7452\tSpearman: 0.7512\n",
      "2021-12-13 16:03:45 - EmbeddingSimilarityEvaluator: Evaluating the model on sts-dev dataset in epoch 0 after 30000 steps:\n",
      "2021-12-13 16:03:48 - Cosine-Similarity :\tPearson: 0.7556\tSpearman: 0.7692\n",
      "2021-12-13 16:03:48 - Manhattan-Distance:\tPearson: 0.7724\tSpearman: 0.7693\n",
      "2021-12-13 16:03:48 - Euclidean-Distance:\tPearson: 0.7720\tSpearman: 0.7689\n",
      "2021-12-13 16:03:48 - Dot-Product-Similarity:\tPearson: 0.7462\tSpearman: 0.7496\n",
      "2021-12-13 16:05:44 - EmbeddingSimilarityEvaluator: Evaluating the model on sts-dev dataset in epoch 0 after 31000 steps:\n",
      "2021-12-13 16:05:47 - Cosine-Similarity :\tPearson: 0.7568\tSpearman: 0.7696\n",
      "2021-12-13 16:05:47 - Manhattan-Distance:\tPearson: 0.7733\tSpearman: 0.7701\n",
      "2021-12-13 16:05:47 - Euclidean-Distance:\tPearson: 0.7728\tSpearman: 0.7695\n",
      "2021-12-13 16:05:47 - Dot-Product-Similarity:\tPearson: 0.7458\tSpearman: 0.7485\n",
      "2021-12-13 16:07:43 - EmbeddingSimilarityEvaluator: Evaluating the model on sts-dev dataset in epoch 0 after 32000 steps:\n",
      "2021-12-13 16:07:45 - Cosine-Similarity :\tPearson: 0.7562\tSpearman: 0.7691\n",
      "2021-12-13 16:07:45 - Manhattan-Distance:\tPearson: 0.7728\tSpearman: 0.7698\n",
      "2021-12-13 16:07:45 - Euclidean-Distance:\tPearson: 0.7723\tSpearman: 0.7691\n",
      "2021-12-13 16:07:45 - Dot-Product-Similarity:\tPearson: 0.7464\tSpearman: 0.7498\n",
      "2021-12-13 16:09:41 - EmbeddingSimilarityEvaluator: Evaluating the model on sts-dev dataset in epoch 0 after 33000 steps:\n",
      "2021-12-13 16:09:44 - Cosine-Similarity :\tPearson: 0.7556\tSpearman: 0.7686\n",
      "2021-12-13 16:09:44 - Manhattan-Distance:\tPearson: 0.7726\tSpearman: 0.7696\n",
      "2021-12-13 16:09:44 - Euclidean-Distance:\tPearson: 0.7720\tSpearman: 0.7690\n",
      "2021-12-13 16:09:44 - Dot-Product-Similarity:\tPearson: 0.7453\tSpearman: 0.7489\n",
      "2021-12-13 16:11:40 - EmbeddingSimilarityEvaluator: Evaluating the model on sts-dev dataset in epoch 0 after 34000 steps:\n",
      "2021-12-13 16:11:42 - Cosine-Similarity :\tPearson: 0.7570\tSpearman: 0.7692\n",
      "2021-12-13 16:11:42 - Manhattan-Distance:\tPearson: 0.7733\tSpearman: 0.7703\n",
      "2021-12-13 16:11:42 - Euclidean-Distance:\tPearson: 0.7728\tSpearman: 0.7697\n",
      "2021-12-13 16:11:42 - Dot-Product-Similarity:\tPearson: 0.7467\tSpearman: 0.7503\n",
      "2021-12-13 16:12:27 - EmbeddingSimilarityEvaluator: Evaluating the model on sts-dev dataset after epoch 0:\n",
      "2021-12-13 16:12:30 - Cosine-Similarity :\tPearson: 0.7570\tSpearman: 0.7693\n",
      "2021-12-13 16:12:30 - Manhattan-Distance:\tPearson: 0.7734\tSpearman: 0.7704\n",
      "2021-12-13 16:12:30 - Euclidean-Distance:\tPearson: 0.7729\tSpearman: 0.7697\n",
      "2021-12-13 16:12:30 - Dot-Product-Similarity:\tPearson: 0.7468\tSpearman: 0.7503\n"
     ]
    }
   ],
   "source": [
    "# Train the model\n",
    "model.fit(train_objectives=[(train_dataloader, train_loss)],\n",
    "          evaluator=dev_evaluator,\n",
    "          epochs=num_epochs,\n",
    "          evaluation_steps=1000,\n",
    "          warmup_steps=warmup_steps,\n",
    "#           output_path=model_save_path\n",
    "          )"
   ]
  },
  {
   "cell_type": "code",
   "execution_count": 16,
   "id": "e8b17a8c",
   "metadata": {},
   "outputs": [
    {
     "name": "stdout",
     "output_type": "stream",
     "text": [
      "2021-12-13 16:12:30 - Save model to output/kpfSBERT_nli\n"
     ]
    }
   ],
   "source": [
    "model.save('output/kpfSBERT_nli')"
   ]
  },
  {
   "cell_type": "code",
   "execution_count": 17,
   "id": "26d74280",
   "metadata": {},
   "outputs": [],
   "source": [
    "train_batch_size = 16\n",
    "num_epochs = 4\n",
    "model_save_path = 'output/kpfSBERT'"
   ]
  },
  {
   "cell_type": "code",
   "execution_count": 18,
   "id": "4a11ed4b",
   "metadata": {},
   "outputs": [],
   "source": [
    "# model = SentenceTransformer(model_name)"
   ]
  },
  {
   "cell_type": "code",
   "execution_count": 19,
   "id": "82cb0192",
   "metadata": {},
   "outputs": [
    {
     "name": "stdout",
     "output_type": "stream",
     "text": [
      "2021-12-13 16:12:31 - Read STSbenchmark train dataset\n"
     ]
    }
   ],
   "source": [
    "logging.info(\"Read STSbenchmark train dataset\")"
   ]
  },
  {
   "cell_type": "code",
   "execution_count": 20,
   "id": "ba53ea41",
   "metadata": {},
   "outputs": [],
   "source": [
    "train_samples = []\n",
    "dev_samples = []\n",
    "test_samples = []\n",
    "with open('KorNLUDatasets/KorSTS/tune_dev.tsv', 'rt', encoding='utf-8') as fIn:\n",
    "    lines = fIn.readlines()\n",
    "    for line in lines:\n",
    "        s1, s2, score = line.split('\\t')\n",
    "        score = score.strip()\n",
    "        score = float(score) / 5.0\n",
    "        dev_samples.append(InputExample(texts= [s1,s2], label=score))\n",
    "\n",
    "with open('KorNLUDatasets/KorSTS/tune_test.tsv', 'rt', encoding='utf-8') as fIn:\n",
    "    lines = fIn.readlines()\n",
    "    for line in lines:\n",
    "        s1, s2, score = line.split('\\t')\n",
    "        score = score.strip()\n",
    "        score = float(score) / 5.0\n",
    "        test_samples.append(InputExample(texts= [s1,s2], label=score))\n",
    "\n",
    "with open('KorNLUDatasets/KorSTS/tune_train.tsv', 'rt', encoding='utf-8') as fIn:\n",
    "    lines = fIn.readlines()\n",
    "    for line in lines:\n",
    "        s1, s2, score = line.split('\\t')\n",
    "        score = score.strip()\n",
    "        score = float(score) / 5.0\n",
    "        train_samples.append(InputExample(texts= [s1,s2], label=score))\n",
    "\n",
    "train_dataset = SentencesDataset(train_samples, model)\n",
    "train_dataloader = DataLoader(train_dataset, shuffle=True, batch_size=train_batch_size)\n",
    "train_loss = losses.CosineSimilarityLoss(model=model)"
   ]
  },
  {
   "cell_type": "code",
   "execution_count": 21,
   "id": "56fae462",
   "metadata": {},
   "outputs": [
    {
     "name": "stdout",
     "output_type": "stream",
     "text": [
      "2021-12-13 16:12:31 - Read STSbenchmark dev dataset\n",
      "2021-12-13 16:12:31 - Warmup-steps: 144\n"
     ]
    }
   ],
   "source": [
    "# Development set: Measure correlation between cosine score and gold labels\n",
    "logging.info(\"Read STSbenchmark dev dataset\")\n",
    "evaluator = EmbeddingSimilarityEvaluator.from_input_examples(dev_samples, name='sts-dev')\n",
    "\n",
    "warmup_steps = math.ceil(len(train_dataset) * num_epochs / train_batch_size * 0.1) #10% of train data for warm-up\n",
    "logging.info(\"Warmup-steps: {}\".format(warmup_steps))"
   ]
  },
  {
   "cell_type": "code",
   "execution_count": 22,
   "id": "4e43424e",
   "metadata": {},
   "outputs": [
    {
     "data": {
      "application/vnd.jupyter.widget-view+json": {
       "model_id": "ad19fec447f9415db2b61b91d4bc2556",
       "version_major": 2,
       "version_minor": 0
      },
      "text/plain": [
       "Epoch:   0%|          | 0/4 [00:00<?, ?it/s]"
      ]
     },
     "metadata": {},
     "output_type": "display_data"
    },
    {
     "data": {
      "application/vnd.jupyter.widget-view+json": {
       "model_id": "c92e73676bf44af797640cc9735eac45",
       "version_major": 2,
       "version_minor": 0
      },
      "text/plain": [
       "Iteration:   0%|          | 0/360 [00:00<?, ?it/s]"
      ]
     },
     "metadata": {},
     "output_type": "display_data"
    },
    {
     "name": "stdout",
     "output_type": "stream",
     "text": [
      "2021-12-13 16:13:20 - EmbeddingSimilarityEvaluator: Evaluating the model on sts-dev dataset after epoch 0:\n",
      "2021-12-13 16:13:23 - Cosine-Similarity :\tPearson: 0.8501\tSpearman: 0.8508\n",
      "2021-12-13 16:13:23 - Manhattan-Distance:\tPearson: 0.8438\tSpearman: 0.8494\n",
      "2021-12-13 16:13:23 - Euclidean-Distance:\tPearson: 0.8442\tSpearman: 0.8500\n",
      "2021-12-13 16:13:23 - Dot-Product-Similarity:\tPearson: 0.8385\tSpearman: 0.8373\n",
      "2021-12-13 16:13:23 - Save model to output/kpfSBERT\n"
     ]
    },
    {
     "data": {
      "application/vnd.jupyter.widget-view+json": {
       "model_id": "5e4bea333ba54e45976148aeb9134187",
       "version_major": 2,
       "version_minor": 0
      },
      "text/plain": [
       "Iteration:   0%|          | 0/360 [00:00<?, ?it/s]"
      ]
     },
     "metadata": {},
     "output_type": "display_data"
    },
    {
     "name": "stdout",
     "output_type": "stream",
     "text": [
      "2021-12-13 16:14:14 - EmbeddingSimilarityEvaluator: Evaluating the model on sts-dev dataset after epoch 1:\n",
      "2021-12-13 16:14:16 - Cosine-Similarity :\tPearson: 0.8519\tSpearman: 0.8539\n",
      "2021-12-13 16:14:16 - Manhattan-Distance:\tPearson: 0.8482\tSpearman: 0.8551\n",
      "2021-12-13 16:14:16 - Euclidean-Distance:\tPearson: 0.8480\tSpearman: 0.8549\n",
      "2021-12-13 16:14:16 - Dot-Product-Similarity:\tPearson: 0.8384\tSpearman: 0.8382\n",
      "2021-12-13 16:14:16 - Save model to output/kpfSBERT\n"
     ]
    },
    {
     "data": {
      "application/vnd.jupyter.widget-view+json": {
       "model_id": "f2305aecee224da9878fcc1545ad4e7d",
       "version_major": 2,
       "version_minor": 0
      },
      "text/plain": [
       "Iteration:   0%|          | 0/360 [00:00<?, ?it/s]"
      ]
     },
     "metadata": {},
     "output_type": "display_data"
    },
    {
     "name": "stdout",
     "output_type": "stream",
     "text": [
      "2021-12-13 16:15:07 - EmbeddingSimilarityEvaluator: Evaluating the model on sts-dev dataset after epoch 2:\n",
      "2021-12-13 16:15:09 - Cosine-Similarity :\tPearson: 0.8557\tSpearman: 0.8567\n",
      "2021-12-13 16:15:09 - Manhattan-Distance:\tPearson: 0.8506\tSpearman: 0.8569\n",
      "2021-12-13 16:15:09 - Euclidean-Distance:\tPearson: 0.8507\tSpearman: 0.8570\n",
      "2021-12-13 16:15:09 - Dot-Product-Similarity:\tPearson: 0.8453\tSpearman: 0.8444\n",
      "2021-12-13 16:15:09 - Save model to output/kpfSBERT\n"
     ]
    },
    {
     "data": {
      "application/vnd.jupyter.widget-view+json": {
       "model_id": "a9ead502b6e44932aeee5feb2e628028",
       "version_major": 2,
       "version_minor": 0
      },
      "text/plain": [
       "Iteration:   0%|          | 0/360 [00:00<?, ?it/s]"
      ]
     },
     "metadata": {},
     "output_type": "display_data"
    },
    {
     "name": "stdout",
     "output_type": "stream",
     "text": [
      "2021-12-13 16:16:00 - EmbeddingSimilarityEvaluator: Evaluating the model on sts-dev dataset after epoch 3:\n",
      "2021-12-13 16:16:02 - Cosine-Similarity :\tPearson: 0.8556\tSpearman: 0.8563\n",
      "2021-12-13 16:16:02 - Manhattan-Distance:\tPearson: 0.8497\tSpearman: 0.8565\n",
      "2021-12-13 16:16:02 - Euclidean-Distance:\tPearson: 0.8499\tSpearman: 0.8567\n",
      "2021-12-13 16:16:02 - Dot-Product-Similarity:\tPearson: 0.8448\tSpearman: 0.8440\n"
     ]
    }
   ],
   "source": [
    "# Train the model\n",
    "model.fit(train_objectives=[(train_dataloader, train_loss)],\n",
    "          evaluator=evaluator,\n",
    "          epochs=num_epochs,\n",
    "          evaluation_steps=1000,\n",
    "          warmup_steps=warmup_steps,\n",
    "          output_path=model_save_path)"
   ]
  },
  {
   "cell_type": "code",
   "execution_count": 23,
   "id": "b90ce459",
   "metadata": {},
   "outputs": [
    {
     "name": "stdout",
     "output_type": "stream",
     "text": [
      "2021-12-13 16:16:02 - Load pretrained SentenceTransformer: output/kpfSBERT\n",
      "2021-12-13 16:16:03 - Use pytorch device: cuda\n",
      "2021-12-13 16:16:03 - EmbeddingSimilarityEvaluator: Evaluating the model on sts-test dataset:\n",
      "2021-12-13 16:16:05 - Cosine-Similarity :\tPearson: 0.8324\tSpearman: 0.8364\n",
      "2021-12-13 16:16:05 - Manhattan-Distance:\tPearson: 0.8298\tSpearman: 0.8345\n",
      "2021-12-13 16:16:05 - Euclidean-Distance:\tPearson: 0.8302\tSpearman: 0.8343\n",
      "2021-12-13 16:16:05 - Dot-Product-Similarity:\tPearson: 0.8247\tSpearman: 0.8257\n"
     ]
    },
    {
     "data": {
      "text/plain": [
       "0.8363526559449966"
      ]
     },
     "execution_count": 23,
     "metadata": {},
     "output_type": "execute_result"
    }
   ],
   "source": [
    "model = SentenceTransformer(model_save_path)\n",
    "test_evaluator = EmbeddingSimilarityEvaluator.from_input_examples(test_samples, name='sts-test')\n",
    "test_evaluator(model, output_path=model_save_path)"
   ]
  },
  {
   "cell_type": "code",
   "execution_count": 24,
   "id": "40136386",
   "metadata": {},
   "outputs": [
    {
     "name": "stdout",
     "output_type": "stream",
     "text": [
      "2021-12-13 16:16:06 - Load pretrained SentenceTransformer: output/kpfSBERT\n",
      "2021-12-13 16:16:06 - Use pytorch device: cuda\n"
     ]
    },
    {
     "data": {
      "application/vnd.jupyter.widget-view+json": {
       "model_id": "62710511659d4e08ae4e6087d1741ee9",
       "version_major": 2,
       "version_minor": 0
      },
      "text/plain": [
       "Batches:   0%|          | 0/1 [00:00<?, ?it/s]"
      ]
     },
     "metadata": {},
     "output_type": "display_data"
    },
    {
     "data": {
      "application/vnd.jupyter.widget-view+json": {
       "model_id": "13d369507f994906b74c880e24a47d46",
       "version_major": 2,
       "version_minor": 0
      },
      "text/plain": [
       "Batches:   0%|          | 0/1 [00:00<?, ?it/s]"
      ]
     },
     "metadata": {},
     "output_type": "display_data"
    },
    {
     "name": "stdout",
     "output_type": "stream",
     "text": [
      "\n",
      "\n",
      "======================\n",
      "\n",
      "\n",
      "Query: 한 남자가 파스타를 먹는다.\n",
      "\n",
      "Top 5 most similar sentences in corpus:\n",
      "한 남자가 음식을 먹는다. (Score: 0.6732)\n",
      "한 남자가 빵 한 조각을 먹는다. (Score: 0.6184)\n",
      "한 남자가 말을 탄다. (Score: 0.1289)\n",
      "한 남자가 담으로 싸인 땅에서 백마를 타고 있다. (Score: 0.0810)\n",
      "두 남자가 수레를 숲 속으로 밀었다. (Score: 0.0695)\n"
     ]
    },
    {
     "data": {
      "application/vnd.jupyter.widget-view+json": {
       "model_id": "29ea10d86d5242cd9759a696e6580a7d",
       "version_major": 2,
       "version_minor": 0
      },
      "text/plain": [
       "Batches:   0%|          | 0/1 [00:00<?, ?it/s]"
      ]
     },
     "metadata": {},
     "output_type": "display_data"
    },
    {
     "name": "stdout",
     "output_type": "stream",
     "text": [
      "\n",
      "\n",
      "======================\n",
      "\n",
      "\n",
      "Query: 고릴라 의상을 입은 누군가가 드럼을 연주하고 있다.\n",
      "\n",
      "Top 5 most similar sentences in corpus:\n",
      "원숭이 한 마리가 드럼을 연주한다. (Score: 0.6221)\n",
      "한 여자가 바이올린을 연주한다. (Score: 0.1462)\n",
      "한 남자가 담으로 싸인 땅에서 백마를 타고 있다. (Score: 0.0656)\n",
      "치타 한 마리가 먹이 뒤에서 달리고 있다. (Score: 0.0326)\n",
      "한 남자가 말을 탄다. (Score: 0.0280)\n"
     ]
    },
    {
     "data": {
      "application/vnd.jupyter.widget-view+json": {
       "model_id": "9042a22370204ef0a84bfe13d667e0b5",
       "version_major": 2,
       "version_minor": 0
      },
      "text/plain": [
       "Batches:   0%|          | 0/1 [00:00<?, ?it/s]"
      ]
     },
     "metadata": {},
     "output_type": "display_data"
    },
    {
     "name": "stdout",
     "output_type": "stream",
     "text": [
      "\n",
      "\n",
      "======================\n",
      "\n",
      "\n",
      "Query: 치타가 들판을 가로 질러 먹이를 쫓는다.\n",
      "\n",
      "Top 5 most similar sentences in corpus:\n",
      "치타 한 마리가 먹이 뒤에서 달리고 있다. (Score: 0.8170)\n",
      "두 남자가 수레를 숲 속으로 밀었다. (Score: 0.1619)\n",
      "원숭이 한 마리가 드럼을 연주한다. (Score: 0.1177)\n",
      "한 여자가 바이올린을 연주한다. (Score: 0.0597)\n",
      "한 남자가 음식을 먹는다. (Score: 0.0072)\n"
     ]
    }
   ],
   "source": [
    "# TEST1 : sentesce similarity sorting with cosine similarity\n",
    "\n",
    "model_path = model_save_path\n",
    "\n",
    "model = SentenceTransformer(model_path)\n",
    "\n",
    "# Corpus with example sentences\n",
    "corpus = ['한 남자가 음식을 먹는다.',\n",
    "          '한 남자가 빵 한 조각을 먹는다.',\n",
    "          '그 여자가 아이를 돌본다.',\n",
    "          '한 남자가 말을 탄다.',\n",
    "          '한 여자가 바이올린을 연주한다.',\n",
    "          '두 남자가 수레를 숲 속으로 밀었다.',\n",
    "          '한 남자가 담으로 싸인 땅에서 백마를 타고 있다.',\n",
    "          '원숭이 한 마리가 드럼을 연주한다.',\n",
    "          '치타 한 마리가 먹이 뒤에서 달리고 있다.']\n",
    "\n",
    "corpus_embeddings = model.encode(corpus, convert_to_tensor=True)\n",
    "\n",
    "# Query sentences:\n",
    "queries = ['한 남자가 파스타를 먹는다.',\n",
    "           '고릴라 의상을 입은 누군가가 드럼을 연주하고 있다.',\n",
    "           '치타가 들판을 가로 질러 먹이를 쫓는다.']\n",
    "\n",
    "# Find the closest 5 sentences of the corpus for each query sentence based on cosine similarity\n",
    "top_k = 5\n",
    "for query in queries:\n",
    "    query_embedding = model.encode(query, convert_to_tensor=True)\n",
    "    cos_scores = util.pytorch_cos_sim(query_embedding, corpus_embeddings)[0]\n",
    "    cos_scores = cos_scores.cpu()\n",
    "\n",
    "    #We use np.argpartition, to only partially sort the top_k results\n",
    "    top_results = np.argpartition(-cos_scores, range(top_k))[0:top_k]\n",
    "\n",
    "    print(\"\\n\\n======================\\n\\n\")\n",
    "    print(\"Query:\", query)\n",
    "    print(\"\\nTop 5 most similar sentences in corpus:\")\n",
    "\n",
    "    for idx in top_results[0:top_k]:\n",
    "        print(corpus[idx].strip(), \"(Score: %.4f)\" % (cos_scores[idx]))"
   ]
  },
  {
   "cell_type": "code",
   "execution_count": 25,
   "id": "a27b0e66",
   "metadata": {},
   "outputs": [
    {
     "name": "stdout",
     "output_type": "stream",
     "text": [
      "2021-12-13 16:16:07 - Load pretrained SentenceTransformer: output/kpfSBERT\n",
      "2021-12-13 16:16:07 - Use pytorch device: cuda\n"
     ]
    },
    {
     "data": {
      "application/vnd.jupyter.widget-view+json": {
       "model_id": "2dbded6bc2254b42b4038a1178f6efe6",
       "version_major": 2,
       "version_minor": 0
      },
      "text/plain": [
       "Batches:   0%|          | 0/1 [00:00<?, ?it/s]"
      ]
     },
     "metadata": {},
     "output_type": "display_data"
    },
    {
     "name": "stdout",
     "output_type": "stream",
     "text": [
      "Cluster  1\n",
      "['치타 한 마리가 먹이 뒤에서 달리고 있다.', '치타가 들판을 가로 질러 먹이를 쫓는다.']\n",
      "\n",
      "Cluster  2\n",
      "['한 남자가 음식을 먹는다.', '한 남자가 빵 한 조각을 먹는다.', '한 남자가 파스타를 먹는다.']\n",
      "\n",
      "Cluster  3\n",
      "['그 여자가 아이를 돌본다.', '한 여자가 바이올린을 연주한다.']\n",
      "\n",
      "Cluster  4\n",
      "['한 남자가 말을 탄다.', '두 남자가 수레를 숲 속으로 밀었다.', '한 남자가 담으로 싸인 땅에서 백마를 타고 있다.']\n",
      "\n",
      "Cluster  5\n",
      "['원숭이 한 마리가 드럼을 연주한다.', '고릴라 의상을 입은 누군가가 드럼을 연주하고 있다.']\n",
      "\n"
     ]
    }
   ],
   "source": [
    "# TEST2 : Clustering with k-means\n",
    "\n",
    "model_path = model_save_path\n",
    "\n",
    "model = SentenceTransformer(model_path)\n",
    "\n",
    "# Corpus with example sentences\n",
    "corpus = ['한 남자가 음식을 먹는다.',\n",
    "          '한 남자가 빵 한 조각을 먹는다.',\n",
    "          '그 여자가 아이를 돌본다.',\n",
    "          '한 남자가 말을 탄다.',\n",
    "          '한 여자가 바이올린을 연주한다.',\n",
    "          '두 남자가 수레를 숲 속으로 밀었다.',\n",
    "          '한 남자가 담으로 싸인 땅에서 백마를 타고 있다.',\n",
    "          '원숭이 한 마리가 드럼을 연주한다.',\n",
    "          '치타 한 마리가 먹이 뒤에서 달리고 있다.',\n",
    "          '한 남자가 파스타를 먹는다.',\n",
    "          '고릴라 의상을 입은 누군가가 드럼을 연주하고 있다.',\n",
    "          '치타가 들판을 가로 질러 먹이를 쫓는다.']\n",
    "\n",
    "corpus_embeddings = model.encode(corpus)\n",
    "\n",
    "# Then, we perform k-means clustering using sklearn:\n",
    "from sklearn.cluster import KMeans\n",
    "\n",
    "num_clusters = 5\n",
    "clustering_model = KMeans(n_clusters=num_clusters)\n",
    "clustering_model.fit(corpus_embeddings)\n",
    "cluster_assignment = clustering_model.labels_\n",
    "\n",
    "clustered_sentences = [[] for i in range(num_clusters)]\n",
    "for sentence_id, cluster_id in enumerate(cluster_assignment):\n",
    "    clustered_sentences[cluster_id].append(corpus[sentence_id])\n",
    "\n",
    "for i, cluster in enumerate(clustered_sentences):\n",
    "    print(\"Cluster \", i+1)\n",
    "    print(cluster)\n",
    "    print(\"\")"
   ]
  }
 ],
 "metadata": {
  "kernelspec": {
   "display_name": "Python37",
   "language": "python",
   "name": "python37"
  },
  "language_info": {
   "codemirror_mode": {
    "name": "ipython",
    "version": 3
   },
   "file_extension": ".py",
   "mimetype": "text/x-python",
   "name": "python",
   "nbconvert_exporter": "python",
   "pygments_lexer": "ipython3",
   "version": "3.7.11"
  }
 },
 "nbformat": 4,
 "nbformat_minor": 5
}
